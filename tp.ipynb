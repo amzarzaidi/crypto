{
 "cells": [
  {
   "cell_type": "markdown",
   "id": "3c6abb24",
   "metadata": {},
   "source": [
    "***Execice 1***\n",
    "\n",
    "**1. Quelles sont les caractéristiques du ROT13 : quel est le type de chiffrement ?**\n",
    "\n",
    "ROT13 est une chiffrement de type symmetrique, par flot et par subsitution monoalphabétique "
   ]
  },
  {
   "cell_type": "markdown",
   "id": "1b08cc6c",
   "metadata": {},
   "source": [
    "***2. Quel est l’avantage d’avoir un décalage de 13 caractères ?***\n",
    "\n",
    "Avantage d’avoir un décalage de 13 caractères sont il est facile de chiffrer et il peut être dechiffre en utilisant la même clé."
   ]
  },
  {
   "cell_type": "code",
   "execution_count": 8,
   "id": "35169b73",
   "metadata": {},
   "outputs": [
    {
     "name": "stdout",
     "output_type": "stream",
     "text": [
      "Gur Ybeq rfg k y’bofreingbver\n"
     ]
    }
   ],
   "source": [
    "def rot13(text):\n",
    "    result=''\n",
    "    for char in text:\n",
    "        if char.isalpha():\n",
    "            if char.islower():\n",
    "                result += chr(((ord(char) - ord('a') +13) % 26) + ord('a'))\n",
    "            else:\n",
    "                result += chr(((ord(char) - ord('A') +13) % 26) + ord('A'))\n",
    "        else:\n",
    "            result+=char\n",
    "    return result\n",
    "print(rot13(\"The Lord est à l’observatoire\"))             "
   ]
  },
  {
   "cell_type": "markdown",
   "id": "2f4905fd",
   "metadata": {},
   "source": [
    "***Execice 2***\n",
    "\n",
    "***1. Quelles sont les caractéristiques du leet speak : quel est le type de chiffrement ?***\n",
    "\n",
    "C'est une chiffrément à flot, par subtitution poly-alphabétiquenumérique\n",
    "Déchiffrément impossible par ordinateur parce que c'est visuel"
   ]
  },
  {
   "cell_type": "code",
   "execution_count": 31,
   "id": "a7debce1",
   "metadata": {},
   "outputs": [
    {
     "name": "stdout",
     "output_type": "stream",
     "text": [
      "/-/€ℓ£oh\n"
     ]
    }
   ],
   "source": [
    "def vin(text, key):\n",
    "    dico = {'A':[\"4\", \"/\\\\\", \"@\", \"^\", \"aye\", \"∂\", \"/-\\\\\"],\n",
    "'B':[\"8\", \"6\", \"13\", \"|3\", \"ß\",\"P>\", \"|:\", \"!3\", \"(3)\", \"/3\", \")3\"],\n",
    "'C':[\"(\", \"¢\", \"<\", \"[\", \"©\"],\n",
    "'D':[\"[)\", \"|o\", \")\", \"I>\", \"|>\", \"T)\", \"|)\", \"0\", \"</\"],\n",
    "'E':[\"3\", \"&\", \"€\", \"£\", \"є\", \"ë\", \"[-\", \"|=-\"],\n",
    "'F':[\"|=\", \"ƒ\", \"|#\", \"ph\", \"/=\"],\n",
    "'G':[\"g\",\"6\",\"9\",\"&\",\"(_+\",\"C-\",\"gee\",\"jee\",\"(Y,\",\"cj\",\"[\",\"-\",\"(γ,\",\"(_-\"],\n",
    "'H':[\"#\", \"/-/\", \"[-]\", \"]-[\", \")-(\", \"(-)\", \":-:\", \"|~|\", \"|-|\", \"]~[\", \"}{\", \"}-{\", \"hèch\"],\n",
    "'I':[\"1\", \"!\", \"|\", \"][\", \"eye\", \"3y3\", \"]\", \":\"],\n",
    "'J':[\"_|\", \"_/\", \"¿\", \"</\",\"(/\", \"ʝ\", \";\"],\n",
    "'K':[\"X\", \"|<\", \"|{\", \"ɮ\", \"/<\", \"|\\\\<\\\"\"],\n",
    "'L':[\"1\", \"£\", \"1_\", \"ℓ\", \"|\", \"|_\", \"][_\"],\n",
    "'M':[\"|v|\", \"[V]\", \"\\{V\\}\", \"|\\\\/|\", \"/\\/\\\\\", \"(u)\", \"(V)\", \"(\\/)\", \"/|\\\\\", \"^^\", \"/|/|\", \"/^^\\\\\", \"|^^|\"],\n",
    "'N':[\"^/\", \"|V\", \"/|/\", \"/\\\\/\", \"[\\\\]\", \"<\\\\>\", \"{\\\\}\", \"]\\\\[\", \"//\", \"^\", \"[]\", \"/V\", \"₪\"],\n",
    "'O':[\"0\", \"()\", \"oh\", \"[]\", \"¤\", \"°\", \"([])\"],\n",
    "'P':[\"|*\", \"|o\", \"|º\", \"|^(o)\", \"|>\", \"|\\\"\", \"9\", \"[]D\", \" \", \"|7\", \"|D\", \"/*\", \"¶\", \"þ\"],\n",
    "'Q':[\"(_,)\", \"()_\", \"0_\", \"°|\", \"<|\", \"0.\"],\n",
    "'R':[\"2\", \"|?\", \"/2\", \"|^\", \"lz\", \"®\", \"[z\", \"12\", \"Я\", \"|2\", \"ʁ\", \"|²\", \".-\", \",-\", \"|°\\\\\"],\n",
    "'S':[\"5\", \"$\", \"z\", \"§\", \"ehs\", \"es\", \"_/ ̄\"],\n",
    "'T':[\"7\", \"+\", \"-|-\", \"1\", \"']['\", \"†\", \"|²\", \" ̄| ̄\"],\n",
    "'U':[\"(_)\", \"|_|\", \"v\", \"L|\", \"μ\", \"J\"],\n",
    "'V':[\"\\\\/\", \"1/\", \"|/\", \"√\"],\n",
    "'W':[\"\\\\/\\\\/\", \"vv\", \"'//\", \"\\\\^/\", \"(n)\", \"\\\\V/\", \"\\\\X/\", \"\\\\|/\", \"\\\\_|_/\", \"\\\\_:_/\", \"Ш\", \"ɰ\", \"`^/\", \"\\\\./\"],\n",
    "'X':[\"><\", \"Ж\", \"}{\", \"ecks\", \"×\", \")(\", \"8\"],\n",
    "'Y':[\"7\", \"j\", \"`/\", \"Ψ\", \"φ\", \"λ\", \"Ч\", \"¥\", \"'/\"],\n",
    "'Z':[\"≥\", \"2\", \"=/=\", \"7_\", \"~/_\", \"%\", \">_\", \"-\\_\", \"'\\_\"]\n",
    "}\n",
    "    result = ''\n",
    "    index = 0\n",
    "    for char in text:\n",
    "        if char.upper() in dico:\n",
    "            \n",
    "            subs = dico[char.upper()]\n",
    "            result += subs[key[index]%len(subs)]\n",
    "            index = (index + 1) % len(key)\n",
    "        else:\n",
    "            result += char\n",
    "    return result\n",
    "            \n",
    "print(vin(\"hello\",[1,2,3]))"
   ]
  },
  {
   "cell_type": "code",
   "execution_count": null,
   "id": "2a43a088",
   "metadata": {},
   "outputs": [],
   "source": []
  }
 ],
 "metadata": {
  "kernelspec": {
   "display_name": "Python 3",
   "language": "python",
   "name": "python3"
  },
  "language_info": {
   "codemirror_mode": {
    "name": "ipython",
    "version": 3
   },
   "file_extension": ".py",
   "mimetype": "text/x-python",
   "name": "python",
   "nbconvert_exporter": "python",
   "pygments_lexer": "ipython3",
   "version": "3.9.2"
  }
 },
 "nbformat": 4,
 "nbformat_minor": 5
}
