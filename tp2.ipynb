{
 "cells": [
  {
   "cell_type": "markdown",
   "id": "728fd6d4",
   "metadata": {},
   "source": [
    "***1. Quel est le principe général des algorithmes de hachage ?***\n",
    "\n",
    "Hachage doit fonctionne unidirectionelle, "
   ]
  },
  {
   "cell_type": "markdown",
   "id": "5f2aca9d",
   "metadata": {},
   "source": [
    "***2. Quel est la longueur en bits d'un haché généré par MD5 ? Même question si le haché est exprimé en hexadécimal ?***\n",
    "\n",
    "Le hachange MD5  genere un haché de 128 bits et 32 hexadecimals"
   ]
  },
  {
   "cell_type": "markdown",
   "id": "45b81084",
   "metadata": {},
   "source": [
    "***3. Pourquoi MD5 ne doit plus être utilisé pour stocker les mots de passe ? Que faut-il utiliser maintenant ? Dans quel cas MD5 pourrait éventuellement être encore utilisé ?***\n",
    "\n",
    "Le hachage de MD5 est vulnerable d'attaque de collisions. Pour stocker le mot de passe, on utilise l'algorithme de hachage SHA256. MD5 est toujours utilisé pour vérifier intégralité de fichier."
   ]
  },
  {
   "cell_type": "markdown",
   "id": "847ee5f7",
   "metadata": {},
   "source": [
    "***4. Quelles sont les trois méthodes qui existent pour attaquer les empreintes générées par un\n",
    "algorithme de hachage ?***\n",
    "\n",
    "Les trois attaques sont attaque par dictionnaire, force brute et rainbow tables."
   ]
  },
  {
   "cell_type": "markdown",
   "id": "8c705145",
   "metadata": {},
   "source": [
    "***Exercice 2 : Algorithme MD5***\n",
    "\n",
    "\n",
    "2. Tester la fonction hashMD5 avec la chaîne : « bergere » (sans accent). Vous devez obtenir le\n",
    "haché : « 6484846ceffdc51484af2b549ffa21fd ».\n",
    "3. Modifier juste un caractère de la chaîne en mettant l'accent grave à la place du second 'e' : le\n",
    "haché doit être complètement différent."
   ]
  },
  {
   "cell_type": "code",
   "execution_count": 8,
   "id": "15c23224",
   "metadata": {},
   "outputs": [
    {
     "name": "stdout",
     "output_type": "stream",
     "text": [
      "6484846ceffdc51484af2b549ffa21fd\n",
      "0a50898c15b84d0bd8b29ad4006cc859\n"
     ]
    }
   ],
   "source": [
    "import hashlib\n",
    "def hashMD5(text):\n",
    "    byte = text.encode(\"utf-8\")\n",
    "    result = hashlib.md5(byte).hexdigest()\n",
    "    return result\n",
    "\n",
    "\n",
    "print(hashMD5(\"bergere\"))\n",
    "print(hashMD5(\"bérgere\"))"
   ]
  },
  {
   "cell_type": "markdown",
   "id": "4227bef6",
   "metadata": {},
   "source": [
    "4. On souhaite trouver les collisions d’un haché généré avec MD5.\n",
    "Écrire la fonction collisionsMD5 (ch, nomFic) où ch est une chaîne représentant une\n",
    "empreinte (ou une portion d’empreinte) et nomFic est le fichier contenant les mots à tester.\n",
    "Cette fonction devra pour chaque mot contenu dans nomFic générer son empreinte MD5 et la\n",
    "comparer à ch. collisionsMD5 retournera donc la liste des mots dont l’empreinte MD5 est\n",
    "égale à ch.\n",
    "Attention : Pour simplifier l’exercice, la chaîne ch passée en paramètre pourra être plus\n",
    "courte que les empreintes générées par MD5. Les empreintes à retourner sont donc celles\n",
    "qui commencent par ch. Elles ne sont pas forcément entièrement égales."
   ]
  },
  {
   "cell_type": "code",
   "execution_count": 28,
   "id": "b4b10b03",
   "metadata": {},
   "outputs": [
    {
     "name": "stdout",
     "output_type": "stream",
     "text": [
      "['willingly', 'zonary']\n"
     ]
    }
   ],
   "source": [
    "def collisionsMD5 (ch, nomFic) :\n",
    "    listres = []\n",
    "    with open(nomFic,\"r\") as file:\n",
    "        for i in file:\n",
    "            i = i.strip()\n",
    "            result = hashMD5(i)\n",
    "            if result.startswith(ch):\n",
    "                listres.append(i)\n",
    "    return listres\n",
    "\n",
    "\n",
    "print(collisionsMD5(\"cc24c\",\"wordlist.txt\"))"
   ]
  },
  {
   "cell_type": "markdown",
   "id": "795e68e1",
   "metadata": {},
   "source": [
    "***Exercice 3 : Cracker les mots de passe de Monsieur Petit – Étape 1***\n",
    "    \n",
    "Vous avez réussi à récupérer une table utilisée par les programmes de Monsieur Petit. Elle\n",
    "contient les informations d’authentification des utilisateurs :"
   ]
  },
  {
   "cell_type": "markdown",
   "id": "46bf1c69",
   "metadata": {},
   "source": [
    "***1. Quel algorithme semble avoir été utilisé ? Justifier votre réponse.***\n",
    "\n",
    "C'est un hachage de type SHA256 parce que le resultat est 64 hexadecimal"
   ]
  },
  {
   "cell_type": "markdown",
   "id": "82cd592c",
   "metadata": {},
   "source": [
    "***2. Quelle est l’utilité du champ Salt ? Comment ces valeurs ont pu être utilisées pour générer\n",
    "une empreinte ?***\n",
    "\n",
    "Salt est utilisé pour ajouter le mdp avant de hacher."
   ]
  },
  {
   "cell_type": "code",
   "execution_count": 81,
   "id": "aab02abc",
   "metadata": {},
   "outputs": [
    {
     "name": "stdout",
     "output_type": "stream",
     "text": [
      "regency\n",
      "falsely\n",
      "44bd7ae60f478fae1061e11a7739f4b94d1daf917982d33b6fc8a01a63f89c21\n",
      "5c729a466d14f72509ee813d07d9186584e6e5d24beefc0c378a3e59ae0049be\n",
      "0e17daca5f3e175f448bacace3bc0da47d0655a74c8dd0dc497a3afbdad95f1f\n",
      "b2501d6ceacb528aa63bdf045c7c053ab8b5bd4e957053a6238c3e1f82b1df1e\n",
      "e67fd0dfb84b1cc94f5ade75345e93963ddd04203285fa13a09764639f11f8cc\n",
      "None\n"
     ]
    }
   ],
   "source": [
    "def hashsha256(text):\n",
    "    byte = text.encode(\"utf-8\")\n",
    "    result = hashlib.sha256(byte).hexdigest()\n",
    "    return result\n",
    "\n",
    "def decryptPwdExo3(valhash,salt,nomFic):\n",
    "    with open (nomFic,\"r\") as file:\n",
    "        for i in file:\n",
    "            i = i.strip()\n",
    "            test = i + salt\n",
    "            result = hashsha256(test)\n",
    "            if result.startswith(valhash):\n",
    "                return i\n",
    "    \n",
    "def hashsha384(text):\n",
    "    byte = text.encode(\"utf-8\")\n",
    "    result = hashlib.sha384(byte).hexdigest()\n",
    "    return result\n",
    "\n",
    "hashHarbiang = \"32c4de3eeb8b04fc3326b4595c3cff93e81ac2d1e92f37b4241ad2d3ef40ff67\"\n",
    "print(decryptPwdExo3(hashHarbiang, \"471\",\"wordlist.txt\"))\n",
    "\n",
    "hashDile = \"faa549aa1c54393af8ded83e192b7cda5d414f9f73668fba1580ff68223854ad\"\n",
    "print(decryptPwdExo3(hashDile, \"382\",\"wordlist.txt\"))\n",
    "\n",
    "\n",
    "print(hashsha256(\"H\"))\n",
    "print(hashsha256(\"Hregency\"))\n",
    "print(hashsha256(\"49\"))\n",
    "print(hashsha256(\"Hishand\"))\n",
    "print(hashsha256(hashMD5(\"regency\")))\n",
    "\n",
    "print(decryptPwdExo3(\"6454197dccd315db04e44122cb6dad26964cec0c487cef5f71492a0e9ce1922877718e\", \"Daylloween1983\",\"wordlist.txt\"))"
   ]
  },
  {
   "cell_type": "markdown",
   "id": "7f065076",
   "metadata": {},
   "source": [
    "***4. Quelle est la faille ? Pourquoi l’attaque a été si simple à mettre en œuvre ?***\n",
    "\n",
    "Le sel est connu"
   ]
  },
  {
   "cell_type": "markdown",
   "id": "3b080396",
   "metadata": {},
   "source": [
    "***Exercice 4 : Cracker les mots de passe de Monsieur Petit – Étape 2***\n",
    "    \n",
    "Monsieur Petit a (un peu) sécurisé ses données. La nouvelle version de la table des utilisateurs ne\n",
    "contient plus que les champs Username et Passwd (Salt a disparu) :\n",
    "\n",
    "Monsieur Petit a quelque peu modifié sa façon de faire pour générer les empreintes."
   ]
  },
  {
   "cell_type": "markdown",
   "id": "e25f978e",
   "metadata": {},
   "source": [
    "***1. Après avoir attentivement regardé les valeurs du champ Passwd, essayer de trouver la\n",
    "logique de Monsieur Petit.***"
   ]
  },
  {
   "cell_type": "markdown",
   "id": "90982b00",
   "metadata": {},
   "source": [
    "***2. Écrire la fonction decryptPwdExo4 qui implémente la réponse à la question précédente. Bien\n",
    "entendu, cette fonction prendra au moins une empreinte et le nom du fichier contenant la liste\n",
    "de mots en paramètres. Elle retournera le mot à l’origine de l’empreinte.\n",
    "Tester decryptPwdExo4 pour trouver le mot de passe de l’utilisateur Daylloween1983 (tarot)\n",
    "et celui de Hommat95 (grand).***"
   ]
  },
  {
   "cell_type": "code",
   "execution_count": 101,
   "id": "f19c3323",
   "metadata": {},
   "outputs": [
    {
     "name": "stdout",
     "output_type": "stream",
     "text": [
      "tarot\n",
      "grand\n"
     ]
    }
   ],
   "source": [
    "def decryptPwdExo4 (valhash, nomFic):\n",
    "    first = valhash[:6]\n",
    "    \n",
    "    with open(nomFic,\"r\") as file:\n",
    "         for i in file:\n",
    "            i = i.strip()\n",
    "            test = i + first\n",
    "            result = hashsha256(test)\n",
    "            if valhash == first + result:\n",
    "                return i\n",
    "            \n",
    "hashDay = \"33487971dc94f21be79158e1d9a8d62312a726eaa047f3b678d862f3d397f570c3aceb\"\n",
    "print(decryptPwdExo4 (hashDay, \"wordlist.txt\"))\n",
    "\n",
    "hashHammot = \"9678753e0b37c064cd7d17a16c6c8eacac96ae9bc7c02fa099069698106716d1dcb4bd\"\n",
    "print(decryptPwdExo4 (hashHammot, \"wordlist.txt\"))"
   ]
  },
  {
   "cell_type": "markdown",
   "id": "820ccc10",
   "metadata": {},
   "source": [
    "***3. Pourquoi est-ce toujours aussi simple de retrouver les mots de passe à partir des informations\n",
    "stockées dans la table ?***"
   ]
  },
  {
   "cell_type": "markdown",
   "id": "61e679a0",
   "metadata": {},
   "source": [
    "***Exercice 5 : Cracker les mots de passe de Monsieur Petit – Étape 3***\n",
    "    \n",
    "Monsieur Petit pense avoir trouvé un moyen infaillible pour stocker les mots de passe. Il a utilisé\n",
    "des informations qui lui sont personnelles pour chiffrer les mots de passe. Voici la dernière\n",
    "version de la table :"
   ]
  },
  {
   "cell_type": "markdown",
   "id": "65652ab2",
   "metadata": {},
   "source": [
    "***1. L’idée de Monsieur Petit n’est pas si mauvaise ... mais il n’aurait pas dû en dire trop sur sa\n",
    "page Web ! Après avoir compris la dernière idée de Monsieur Petit, écrire la fonction\n",
    "decryptPwdExo5 qui vous permettra de déchiffrer les mots de passe.\n",
    "La tester en faisant afficher les mots de passe de l’utilisateur Whistre (trottoir) et celui de\n",
    "Acep1956 (imitation).***"
   ]
  },
  {
   "cell_type": "code",
   "execution_count": 122,
   "id": "7748d02d",
   "metadata": {},
   "outputs": [
    {
     "name": "stdout",
     "output_type": "stream",
     "text": [
      "imitation\n"
     ]
    }
   ],
   "source": [
    "def decryptPwdExo5(valhash,salt,nomFic):\n",
    "    with open(nomFic,\"r\") as file:\n",
    "         for i in file:\n",
    "            i = i.strip()\n",
    "            test = salt + i\n",
    "            result = hashsha256(test)\n",
    "            if valhash == result:\n",
    "                return i\n",
    "\n",
    "    \n",
    "print(decryptPwdExo5(\"46c74e72bb787c4e24ad7c4c039d383d725c453e4a0e0fbef844283ead1b1da4\", \"02468\", \"wordlist.txt\"))"
   ]
  },
  {
   "cell_type": "code",
   "execution_count": null,
   "id": "4dbfe039",
   "metadata": {},
   "outputs": [],
   "source": []
  },
  {
   "cell_type": "code",
   "execution_count": null,
   "id": "678333f8",
   "metadata": {},
   "outputs": [],
   "source": []
  },
  {
   "cell_type": "code",
   "execution_count": null,
   "id": "0ab543bd",
   "metadata": {},
   "outputs": [],
   "source": []
  }
 ],
 "metadata": {
  "kernelspec": {
   "display_name": "Python 3",
   "language": "python",
   "name": "python3"
  },
  "language_info": {
   "codemirror_mode": {
    "name": "ipython",
    "version": 3
   },
   "file_extension": ".py",
   "mimetype": "text/x-python",
   "name": "python",
   "nbconvert_exporter": "python",
   "pygments_lexer": "ipython3",
   "version": "3.9.2"
  }
 },
 "nbformat": 4,
 "nbformat_minor": 5
}
